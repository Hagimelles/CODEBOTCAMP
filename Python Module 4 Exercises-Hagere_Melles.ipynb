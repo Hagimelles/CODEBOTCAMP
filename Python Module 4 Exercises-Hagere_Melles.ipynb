{
 "cells": [
  {
   "cell_type": "markdown",
   "metadata": {},
   "source": [
    "Exercise 1: Make an empty list and call it names"
   ]
  },
  {
   "cell_type": "code",
   "execution_count": 1,
   "metadata": {},
   "outputs": [
    {
     "name": "stdout",
     "output_type": "stream",
     "text": [
      "[]\n",
      "3\n"
     ]
    }
   ],
   "source": [
    "names = []\n",
    "print(names)\n",
    "print(1+2)\n"
   ]
  },
  {
   "cell_type": "code",
   "execution_count": 2,
   "metadata": {},
   "outputs": [
    {
     "data": {
      "text/plain": [
       "6"
      ]
     },
     "execution_count": 2,
     "metadata": {},
     "output_type": "execute_result"
    }
   ],
   "source": [
    "(names)\n",
    "5+1"
   ]
  },
  {
   "cell_type": "markdown",
   "metadata": {},
   "source": [
    "Exercise 2: Make names filled with names of 5 people: Hannah, Victor, Sam, James, Sarah"
   ]
  },
  {
   "cell_type": "code",
   "execution_count": 3,
   "metadata": {},
   "outputs": [
    {
     "name": "stdout",
     "output_type": "stream",
     "text": [
      "['Hannah', 'Victor', 'Sam', 'James', 'Sarah']\n"
     ]
    }
   ],
   "source": [
    "names.append(\"Hannah\")\n",
    "names.append(\"Victor\")\n",
    "names.append(\"Sam\")\n",
    "names.append(\"James\")\n",
    "names.append(\"Sarah\")\n",
    "print(names)"
   ]
  },
  {
   "cell_type": "code",
   "execution_count": 4,
   "metadata": {},
   "outputs": [],
   "source": [
    "new_name=[\"Hannah\", \"Victor\"]"
   ]
  },
  {
   "cell_type": "markdown",
   "metadata": {},
   "source": [
    "Exercise 3: Make names sored in reverse. Print out the list using a for-loop"
   ]
  },
  {
   "cell_type": "code",
   "execution_count": 5,
   "metadata": {},
   "outputs": [
    {
     "name": "stdout",
     "output_type": "stream",
     "text": [
      "Victor\n",
      "Sarah\n",
      "Sam\n",
      "James\n",
      "Hannah\n"
     ]
    }
   ],
   "source": [
    "names.sort(reverse=True)\n",
    "for name in names :\n",
    "    print(name)"
   ]
  },
  {
   "cell_type": "markdown",
   "metadata": {},
   "source": [
    "Exercise 4: Make names sorted alphabetically. Print out the list using while loop"
   ]
  },
  {
   "cell_type": "code",
   "execution_count": 4,
   "metadata": {},
   "outputs": [
    {
     "name": "stdout",
     "output_type": "stream",
     "text": [
      "['Hannah', 'James', 'Sam', 'Sarah', 'Victor']\n",
      "Hannah\n",
      "James\n",
      "Sam\n",
      "Sarah\n",
      "Victor\n"
     ]
    }
   ],
   "source": [
    "names.sort()\n",
    "print(names)\n",
    "maxno = len(names)\n",
    "i = 0\n",
    "while i < maxno :\n",
    "    print(names[i])\n",
    "    i += 1"
   ]
  },
  {
   "cell_type": "code",
   "execution_count": 16,
   "metadata": {},
   "outputs": [
    {
     "name": "stdout",
     "output_type": "stream",
     "text": [
      "1542872130760\n",
      "new_list = [0, 1, 2, 6]\n",
      "mylist = [1, 6, 2, 0]\n",
      "1542872130696\n",
      "\n",
      "[0, 1, 2, 6]\n",
      "------------------------------\n",
      "id of mylist = 1542872130760\n",
      "id of copy_mylist = 1542872151496\n",
      "id of new_list = 1542872130696\n"
     ]
    }
   ],
   "source": [
    "mylist = [ 1,6,2,0]\n",
    "print(id(mylist))\n",
    "copy_mylist = mylist.copy()\n",
    "\n",
    "\n",
    "new_list = sorted(mylist)\n",
    "print(f\"new_list = {new_list}\")\n",
    "print(f\"mylist = {mylist}\")\n",
    "print(id(new_list))\n",
    "print()\n",
    "\n",
    "mylist.sort()\n",
    "print(mylist)\n",
    "print(\"---\"*10)\n",
    "print(f\"id of mylist = {id(mylist)}\")\n",
    "print(f\"id of copy_mylist = {id(copy_mylist)}\")\n",
    "print(f\"id of new_list = {id(new_list)}\")\n",
    "\n",
    "\n"
   ]
  },
  {
   "cell_type": "code",
   "execution_count": 18,
   "metadata": {},
   "outputs": [
    {
     "name": "stdout",
     "output_type": "stream",
     "text": [
      "id of my_id=1542829146288 my_id=abc\n",
      "id of copy_id=1542829146288 copy_id=abc\n",
      "----------\n",
      "id of my_id=1542872140528 my_id=123\n",
      "id of copy_id=1542829146288 copy_id=abc\n"
     ]
    }
   ],
   "source": [
    "my_id = \"abc\"\n",
    "copy_id = my_id\n",
    "\n",
    "print(f\"id of my_id={id(my_id)} my_id={my_id}\")\n",
    "print(f\"id of copy_id={id(copy_id)} copy_id={copy_id}\")\n",
    "\n",
    "print(\"-\"*10)\n",
    "\n",
    "my_id = \"123\"\n",
    "print(f\"id of my_id={id(my_id)} my_id={my_id}\")\n",
    "print(f\"id of copy_id={id(copy_id)} copy_id={copy_id}\")\n"
   ]
  },
  {
   "cell_type": "code",
   "execution_count": 25,
   "metadata": {},
   "outputs": [
    {
     "name": "stdout",
     "output_type": "stream",
     "text": [
      "id of my_list=1542870616584 my_id=[121, 42, 33]\n",
      "id of copy_list=1542870616584 copy_list=[121, 42, 33]\n",
      "----------\n",
      "id of my_list=1542870616584 my_id=[121, 42, 33, 39]\n",
      "id of copy_list=1542870616584 copy_list=[121, 42, 33, 39]\n",
      "----------\n",
      "id of my_list=1542870616584 my_id=[121, 42, 33, 39]\n",
      "id of new_list=1542871253384 new_list=[33, 39, 42, 121]\n"
     ]
    }
   ],
   "source": [
    "my_list = [121, 42, 33]\n",
    "copy_list = my_list\n",
    "\n",
    "print(f\"id of my_list={id(my_list)} my_id={my_list}\")\n",
    "print(f\"id of copy_list={id(copy_list)} copy_list={copy_list}\")\n",
    "\n",
    "print(\"-\"*10)\n",
    "\n",
    "my_list.append(39)\n",
    "print(f\"id of my_list={id(my_list)} my_id={my_list}\")\n",
    "print(f\"id of copy_list={id(copy_list)} copy_list={copy_list}\")\n",
    "print(\"-\"*10)\n",
    "\n",
    "\n",
    "#my_list.sort()\n",
    "#print(f\"id of my_list={id(my_list)} my_id={my_list}\")\n",
    "#print(f\"id of copy_list={id(copy_list)} copy_list={copy_list}\")\n",
    "\n",
    "new_list = sorted(my_list)\n",
    "print(f\"id of my_list={id(my_list)} my_id={my_list}\")\n",
    "print(f\"id of new_list={id(new_list)} new_list={new_list}\")\n"
   ]
  },
  {
   "cell_type": "markdown",
   "metadata": {},
   "source": [
    "Exercise 5: Pull out the fourth item from names and print it out"
   ]
  },
  {
   "cell_type": "code",
   "execution_count": 26,
   "metadata": {},
   "outputs": [
    {
     "name": "stdout",
     "output_type": "stream",
     "text": [
      "James\n",
      "['Victor', 'Sarah', 'Sam', 'Hannah']\n"
     ]
    }
   ],
   "source": [
    "name = names.pop(3)\n",
    "print(name)\n",
    "print(names)"
   ]
  },
  {
   "cell_type": "markdown",
   "metadata": {},
   "source": [
    "Exercise 6: Pull out the first item from names and print it out"
   ]
  },
  {
   "cell_type": "code",
   "execution_count": 27,
   "metadata": {},
   "outputs": [
    {
     "name": "stdout",
     "output_type": "stream",
     "text": [
      "Victor\n",
      "['Sarah', 'Sam', 'Hannah']\n"
     ]
    }
   ],
   "source": [
    "name = names.pop(0)\n",
    "print(name)\n",
    "print(names)"
   ]
  },
  {
   "cell_type": "markdown",
   "metadata": {},
   "source": [
    "Exercise 7: Make a variable named fruits that contains a string \"Apples, Oranges, Bananas, Pineapples, Persimmons, Dragonfruit\" and make it into a list splitting it by the commas."
   ]
  },
  {
   "cell_type": "code",
   "execution_count": 28,
   "metadata": {},
   "outputs": [
    {
     "name": "stdout",
     "output_type": "stream",
     "text": [
      "['Apples', 'Oranges', 'Bananas', 'Pineapples', 'Persimmons', 'Dragonfruit']\n"
     ]
    }
   ],
   "source": [
    "fruits = \"Apples, Oranges, Bananas, Pineapples, Persimmons, Dragonfruit\"\n",
    "fruit_list = fruits.split(', ')\n",
    "print(fruit_list)"
   ]
  },
  {
   "cell_type": "markdown",
   "metadata": {},
   "source": [
    "Exercise 8: Create a list of the first 10 square numbers. i.e. the square of each integer from 1 to 10. "
   ]
  },
  {
   "cell_type": "code",
   "execution_count": 29,
   "metadata": {},
   "outputs": [
    {
     "name": "stdout",
     "output_type": "stream",
     "text": [
      "[1, 4, 9, 16, 25, 36, 49, 64, 81, 100]\n"
     ]
    }
   ],
   "source": [
    "squares = []\n",
    "for value in range(1, 11) :\n",
    "    square = value ** 2\n",
    "    squares.append(square)\n",
    "    \n",
    "print(squares)    "
   ]
  },
  {
   "cell_type": "markdown",
   "metadata": {},
   "source": [
    "Exercise 9: Create a multiplication table from 1 to 10"
   ]
  },
  {
   "cell_type": "code",
   "execution_count": 10,
   "metadata": {},
   "outputs": [
    {
     "name": "stdout",
     "output_type": "stream",
     "text": [
      "1\t 2\t 3\t 4\t 5\t 6\t 7\t 8\t 9\t 10\t \n",
      "2\t 4\t 6\t 8\t 10\t 12\t 14\t 16\t 18\t 20\t \n",
      "3\t 6\t 9\t 12\t 15\t 18\t 21\t 24\t 27\t 30\t \n",
      "4\t 8\t 12\t 16\t 20\t 24\t 28\t 32\t 36\t 40\t \n",
      "5\t 10\t 15\t 20\t 25\t 30\t 35\t 40\t 45\t 50\t \n",
      "6\t 12\t 18\t 24\t 30\t 36\t 42\t 48\t 54\t 60\t \n",
      "7\t 14\t 21\t 28\t 35\t 42\t 49\t 56\t 63\t 70\t \n",
      "8\t 16\t 24\t 32\t 40\t 48\t 56\t 64\t 72\t 80\t \n",
      "9\t 18\t 27\t 36\t 45\t 54\t 63\t 72\t 81\t 90\t \n",
      "10\t 20\t 30\t 40\t 50\t 60\t 70\t 80\t 90\t 100\t \n"
     ]
    }
   ],
   "source": [
    "for i in range(1, 11) :\n",
    "    for j in range(1, 11) :\n",
    "        k = i * j\n",
    "        print(f\"{k}\\t\", end=' ')\n",
    "    print()    "
   ]
  },
  {
   "cell_type": "markdown",
   "metadata": {},
   "source": [
    "Exercise 10: Write a program that gets test scores from a user and then calculates and displays the average of the scores that have been enter. The output of the program should show the original scores and the average. "
   ]
  },
  {
   "cell_type": "code",
   "execution_count": 31,
   "metadata": {},
   "outputs": [
    {
     "name": "stdout",
     "output_type": "stream",
     "text": [
      "Enter a test score or 'q' to quit: 100\n",
      "Enter a test score or 'q' to quit: 50\n",
      "Enter a test score or 'q' to quit: q\n",
      "\n",
      "All scores: ['100', '50']\n",
      "Average score: 75.00\n"
     ]
    }
   ],
   "source": [
    "scores = []\n",
    "total = 0\n",
    "no_scores = 0\n",
    "\n",
    "while True :\n",
    "    score = input(\"Enter a test score or 'q' to quit: \")\n",
    "    if score.lower() == 'q' :\n",
    "        break\n",
    "    \n",
    "    scores.append(score)\n",
    "    total += float(score)\n",
    "    no_scores += 1\n",
    "\n",
    "if no_scores == 0 :\n",
    "    avg = 0\n",
    "else :\n",
    "    avg = total / no_scores\n",
    "    \n",
    "print(f\"\\nAll scores: {scores}\")\n",
    "print(f\"Average score: {avg:.2f}\")"
   ]
  },
  {
   "cell_type": "markdown",
   "metadata": {},
   "source": [
    "Challenge:\n",
    "Write a program that maintains a list of movies, and the user can list all the movies, add a movie to the list, or delete a movie from the list.\n",
    "\n",
    "Example\n",
    "\n",
    "###### COMMAND MENU\n",
    "```\n",
    "list - list all movies\n",
    "add - add a movie\n",
    "del - delete a movie\n",
    "exit - exit program \n",
    "```\n",
    "\n",
    "###### Command: list\n",
    "``` \n",
    " 1. Toy Story\n",
    " 2. Lion King\n",
    " 3. Frozen\n",
    " ```\n",
    "\n",
    "###### Command: add\n",
    " ```\n",
    " Name: Snow White\n",
    " Snow White was added.\n",
    " ```\n",
    "\n",
    "###### Command: del\n",
    "```\n",
    " Number: 3\n",
    " Frozen was deleted.```\n",
    "\n"
   ]
  },
  {
   "cell_type": "code",
   "execution_count": 32,
   "metadata": {},
   "outputs": [
    {
     "name": "stdout",
     "output_type": "stream",
     "text": [
      "COMMAND MENU\n",
      "list - list all movies\n",
      "add - add a movie\n",
      "del - delete a movie\n",
      "exit - exit program\n",
      "\n",
      "Command: list\n",
      "1. Toy Story\n",
      "2. Lion King\n",
      "3. Aladdin\n",
      "\n",
      "Command: del\n",
      "Number: 9\n",
      "Invalid movie number.\n",
      "\n",
      "Command: add\n",
      "Name: TEST\n",
      "TEST was added.\n",
      "\n",
      "Command: list\n",
      "1. Toy Story\n",
      "2. Lion King\n",
      "3. Aladdin\n",
      "4. TEST\n",
      "\n",
      "Command: del\n",
      "Number: 4\n",
      "TEST was deleted.\n",
      "\n",
      "Command: list\n",
      "1. Toy Story\n",
      "2. Lion King\n",
      "3. Aladdin\n",
      "\n",
      "Command: exit\n",
      "Bye\n"
     ]
    }
   ],
   "source": [
    "def display_menu() :\n",
    "    print(\"COMMAND MENU\")\n",
    "    print(\"list - list all movies\")\n",
    "    print(\"add - add a movie\")\n",
    "    print(\"del - delete a movie\")\n",
    "    print(\"exit - exit program\")\n",
    "    print()\n",
    "    \n",
    "def list_movies() :\n",
    "    index = 1\n",
    "    for movie in movie_list :\n",
    "        print(f\"{index}. {movie}\")\n",
    "        index += 1\n",
    "    print()    \n",
    "        \n",
    "def add_movie() :\n",
    "    movie = input(\"Name: \")\n",
    "    movie_list.append(movie)\n",
    "    print(f\"{movie} was added.\\n\")\n",
    "    \n",
    "def del_movie() :\n",
    "    choice = int(input(\"Number: \"))\n",
    "    if choice < 1 or choice > len(movie_list) :\n",
    "        print(\"Invalid movie number.\\n\")\n",
    "    else :\n",
    "        movie = movie_list.pop(choice - 1)\n",
    "        print(f\"{movie} was deleted.\\n\")\n",
    "        \n",
    "\n",
    "movie_list = [\"Toy Story\", \"Lion King\", \"Aladdin\"]\n",
    "display_menu()\n",
    "while True :\n",
    "    command = input(\"Command: \")\n",
    "    command = command.lower()\n",
    "    if command == \"list\" :\n",
    "        list_movies()\n",
    "    elif command == \"add\" :\n",
    "        add_movie()\n",
    "    elif command == \"del\" :\n",
    "        del_movie()\n",
    "    elif command == \"exit\" :\n",
    "        break\n",
    "    else :\n",
    "        print(\"Invalid command. Please try again.\\n\")\n",
    "        display_menu()\n",
    "        \n",
    "print(\"Bye\")        "
   ]
  },
  {
   "cell_type": "code",
   "execution_count": null,
   "metadata": {},
   "outputs": [],
   "source": []
  }
 ],
 "metadata": {
  "kernelspec": {
   "display_name": "Python 3 (ipykernel)",
   "language": "python",
   "name": "python3"
  },
  "language_info": {
   "codemirror_mode": {
    "name": "ipython",
    "version": 3
   },
   "file_extension": ".py",
   "mimetype": "text/x-python",
   "name": "python",
   "nbconvert_exporter": "python",
   "pygments_lexer": "ipython3",
   "version": "3.9.13"
  }
 },
 "nbformat": 4,
 "nbformat_minor": 4
}
