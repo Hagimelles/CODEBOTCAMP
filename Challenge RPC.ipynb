{
 "cells": [
  {
   "cell_type": "markdown",
   "metadata": {},
   "source": [
    "## Challenge: Rock, Paper, Scissors"
   ]
  },
  {
   "cell_type": "markdown",
   "metadata": {},
   "source": [
    "## Purpose\n",
    "Create a game where the user can play a game of rock, paper, scissors against a computer. Set a play choice (rock, paper, or scissors) for the computer player and during the program, request for the user to input their play choice.\n",
    "\n",
    "The rules in Rock, Paper, Scissors are:\n",
    "\n",
    "    Rock beats scissors\n",
    "    Scissors beats paper\n",
    "    Paper beats rock\n",
    "\n",
    "If the user wins, then display \"You win!\" If they lose against the computer, then display \"You lose.\" If the computer and the user have the same play choice, display \"It's a draw.\"\n",
    "\n",
    "Also ask the user if they would like to play again. If they do, start the game again but if not, thank the user for playing the game."
   ]
  },
  {
   "cell_type": "markdown",
   "metadata": {},
   "source": [
    "## 1. Create a Welcome Message"
   ]
  },
  {
   "cell_type": "code",
   "execution_count": 2,
   "metadata": {},
   "outputs": [
    {
     "name": "stdout",
     "output_type": "stream",
     "text": [
      "Welcome to Rock, Paper, Scissors Game!\n"
     ]
    }
   ],
   "source": [
    "print(\"Welcome to Rock, Paper, Scissors Game!\")"
   ]
  },
  {
   "cell_type": "markdown",
   "metadata": {},
   "source": [
    "## 2. Define the choices"
   ]
  },
  {
   "cell_type": "code",
   "execution_count": 3,
   "metadata": {},
   "outputs": [
    {
     "name": "stdout",
     "output_type": "stream",
     "text": [
      "Enter a choice (rock, paper, scissors): rock\n",
      "\n",
      "You chose rock, computer choice scissors.\n",
      "\n"
     ]
    }
   ],
   "source": [
    "import random\n",
    "\n",
    "user = input(\"Enter a choice (rock, paper, scissors): \")\n",
    "choice = [\"rock\", \"paper\", \"scissors\"]\n",
    "computer_action = random.choice(choice)\n",
    "print(f\"\\nYou chose {user}, computer choice {computer_action}.\\n\")"
   ]
  },
  {
   "cell_type": "markdown",
   "metadata": {},
   "source": [
    "## 3. Create the game logic"
   ]
  },
  {
   "cell_type": "markdown",
   "metadata": {},
   "source": [
    "#### Hint: think about if/elif/Else\n",
    "#### Hint: have the computer randomly select a choice. "
   ]
  },
  {
   "cell_type": "code",
   "execution_count": 17,
   "metadata": {},
   "outputs": [
    {
     "name": "stdout",
     "output_type": "stream",
     "text": [
      "You win!!!!!!!\n"
     ]
    }
   ],
   "source": [
    "    if user == computer_action:\n",
    "        print(f\"Both players selected {user}. It's a draw.\")\n",
    "    elif user == \"rock\":\n",
    "        if computer_action == \"scissors\":\n",
    "            print(\"You win!!!!!!!\")\n",
    "        else:\n",
    "            print(\"You lose.\")\n",
    "    elif user == \"paper\":\n",
    "        if computer_action == \"rock\":\n",
    "            print(\"You win!!!!\")\n",
    "        else:\n",
    "            print(\"You lose.\")\n",
    "    elif user == \"scissors\":\n",
    "        if computer_action == \"paper\":\n",
    "            print(\"You win!!!!!!\")\n",
    "        else:\n",
    "            print(\"You lose.\")"
   ]
  },
  {
   "cell_type": "code",
   "execution_count": 18,
   "metadata": {},
   "outputs": [
    {
     "name": "stdout",
     "output_type": "stream",
     "text": [
      "Enter a choice (rock, paper, scissors): rock\n",
      "\n",
      "You chose rock, computer chose rock.\n",
      "\n",
      "Both players selected rock. It's a draw.\n",
      "Play again? (yes/no): yes\n"
     ]
    }
   ],
   "source": [
    "import random\n",
    "\n",
    "while True:\n",
    "    user = input(\"Enter a choice (rock, paper, scissors): \")\n",
    "    choice = [\"rock\", \"paper\", \"scissors\"]\n",
    "    computer_action = random.choice(choice)\n",
    "    print(f\"\\nYou chose {user}, computer chose {computer_action}.\\n\")\n",
    "\n",
    "    if user == computer_action:\n",
    "        print(f\"Both players selected {user}. It's a draw.\")\n",
    "    elif user == \"rock\":\n",
    "        if computer_action == \"scissors\":\n",
    "            print(\"You win!\")\n",
    "        else:\n",
    "            print(\"You lose.\")\n",
    "    elif user == \"paper\":\n",
    "        if computer_action == \"rock\":\n",
    "            print(\"You win!\")\n",
    "        else:\n",
    "            print(\"You lose.\")\n",
    "    elif user == \"scissors\":\n",
    "        if computer_action == \"paper\":\n",
    "            print(\"You win!\")\n",
    "        else:\n",
    "            print(\"You lose.\")\n",
    "\n",
    "    play_again = input(\"Play again? (yes/no): \")\n",
    "    if play_again.lower() != \"y\":\n",
    "        break"
   ]
  },
  {
   "cell_type": "markdown",
   "metadata": {},
   "source": [
    "# Bonus"
   ]
  },
  {
   "cell_type": "markdown",
   "metadata": {},
   "source": [
    "## 1. Include the rules of the game for a new user"
   ]
  },
  {
   "cell_type": "code",
   "execution_count": 172,
   "metadata": {},
   "outputs": [
    {
     "name": "stdout",
     "output_type": "stream",
     "text": [
      "Welcome to the Rock, the Paper, the Scissors Game!\n",
      "The rules of the Rock, the Paper, the Scissors Game.\n",
      "  select choice from rock, paper, scissors to play.\n"
     ]
    }
   ],
   "source": [
    "print(\"Welcome to the Rock, the Paper, the Scissors Game!\")\n",
    "print(\"The rules of the Rock, the Paper, the Scissors Game.\\n    select choice from rock, paper, scissors to play.\")"
   ]
  },
  {
   "cell_type": "markdown",
   "metadata": {},
   "source": [
    "## 2. Add only valid inputs for rock, paper, scissor choice AND guided message"
   ]
  },
  {
   "cell_type": "markdown",
   "metadata": {},
   "source": [
    "#### Hint: use a function"
   ]
  },
  {
   "cell_type": "code",
   "execution_count": 19,
   "metadata": {},
   "outputs": [
    {
     "name": "stdout",
     "output_type": "stream",
     "text": [
      "Enter a choice (rock, paper, scissors): rock\n",
      "\n",
      "You chose rock, computer chose paper.\n",
      "\n",
      "Enter a choice (rock, paper, scissors): paper\n",
      "\n",
      "You chose paper, computer chose paper.\n",
      "\n",
      "Enter a choice (rock, paper, scissors): xxxx\n",
      "Enter a VALID choice from rock, paper, scissors \n"
     ]
    },
    {
     "ename": "KeyboardInterrupt",
     "evalue": "Interrupted by user",
     "output_type": "error",
     "traceback": [
      "\u001b[1;31m---------------------------------------------------------------------------\u001b[0m",
      "\u001b[1;31mKeyboardInterrupt\u001b[0m                         Traceback (most recent call last)",
      "\u001b[1;32m~\\AppData\\Local\\Temp\\ipykernel_14512\\2733141914.py\u001b[0m in \u001b[0;36m<module>\u001b[1;34m\u001b[0m\n\u001b[0;32m      1\u001b[0m \u001b[1;32mwhile\u001b[0m \u001b[1;32mTrue\u001b[0m\u001b[1;33m:\u001b[0m\u001b[1;33m\u001b[0m\u001b[1;33m\u001b[0m\u001b[0m\n\u001b[1;32m----> 2\u001b[1;33m     \u001b[0muser\u001b[0m \u001b[1;33m=\u001b[0m \u001b[0minput\u001b[0m\u001b[1;33m(\u001b[0m\u001b[1;34m\"Enter a choice (rock, paper, scissors): \"\u001b[0m\u001b[1;33m)\u001b[0m\u001b[1;33m\u001b[0m\u001b[1;33m\u001b[0m\u001b[0m\n\u001b[0m\u001b[0;32m      3\u001b[0m \u001b[1;33m\u001b[0m\u001b[0m\n\u001b[0;32m      4\u001b[0m     \u001b[1;32mif\u001b[0m \u001b[0muser\u001b[0m \u001b[1;33m!=\u001b[0m \u001b[1;34m\"rock\"\u001b[0m \u001b[1;32mand\u001b[0m   \u001b[0muser\u001b[0m \u001b[1;33m!=\u001b[0m  \u001b[1;34m\"paper\"\u001b[0m \u001b[1;32mand\u001b[0m   \u001b[0muser\u001b[0m \u001b[1;33m!=\u001b[0m \u001b[1;34m\"scissors\"\u001b[0m\u001b[1;33m:\u001b[0m\u001b[1;33m\u001b[0m\u001b[1;33m\u001b[0m\u001b[0m\n\u001b[0;32m      5\u001b[0m         \u001b[0mprint\u001b[0m\u001b[1;33m(\u001b[0m\u001b[1;34m\"Enter a VALID choice from rock, paper, scissors \"\u001b[0m\u001b[1;33m)\u001b[0m\u001b[1;33m\u001b[0m\u001b[1;33m\u001b[0m\u001b[0m\n",
      "\u001b[1;32m~\\anaconda3\\lib\\site-packages\\ipykernel\\kernelbase.py\u001b[0m in \u001b[0;36mraw_input\u001b[1;34m(self, prompt)\u001b[0m\n\u001b[0;32m   1175\u001b[0m                 \u001b[1;34m\"raw_input was called, but this frontend does not support input requests.\"\u001b[0m\u001b[1;33m\u001b[0m\u001b[1;33m\u001b[0m\u001b[0m\n\u001b[0;32m   1176\u001b[0m             )\n\u001b[1;32m-> 1177\u001b[1;33m         return self._input_request(\n\u001b[0m\u001b[0;32m   1178\u001b[0m             \u001b[0mstr\u001b[0m\u001b[1;33m(\u001b[0m\u001b[0mprompt\u001b[0m\u001b[1;33m)\u001b[0m\u001b[1;33m,\u001b[0m\u001b[1;33m\u001b[0m\u001b[1;33m\u001b[0m\u001b[0m\n\u001b[0;32m   1179\u001b[0m             \u001b[0mself\u001b[0m\u001b[1;33m.\u001b[0m\u001b[0m_parent_ident\u001b[0m\u001b[1;33m[\u001b[0m\u001b[1;34m\"shell\"\u001b[0m\u001b[1;33m]\u001b[0m\u001b[1;33m,\u001b[0m\u001b[1;33m\u001b[0m\u001b[1;33m\u001b[0m\u001b[0m\n",
      "\u001b[1;32m~\\anaconda3\\lib\\site-packages\\ipykernel\\kernelbase.py\u001b[0m in \u001b[0;36m_input_request\u001b[1;34m(self, prompt, ident, parent, password)\u001b[0m\n\u001b[0;32m   1217\u001b[0m             \u001b[1;32mexcept\u001b[0m \u001b[0mKeyboardInterrupt\u001b[0m\u001b[1;33m:\u001b[0m\u001b[1;33m\u001b[0m\u001b[1;33m\u001b[0m\u001b[0m\n\u001b[0;32m   1218\u001b[0m                 \u001b[1;31m# re-raise KeyboardInterrupt, to truncate traceback\u001b[0m\u001b[1;33m\u001b[0m\u001b[1;33m\u001b[0m\u001b[0m\n\u001b[1;32m-> 1219\u001b[1;33m                 \u001b[1;32mraise\u001b[0m \u001b[0mKeyboardInterrupt\u001b[0m\u001b[1;33m(\u001b[0m\u001b[1;34m\"Interrupted by user\"\u001b[0m\u001b[1;33m)\u001b[0m \u001b[1;32mfrom\u001b[0m \u001b[1;32mNone\u001b[0m\u001b[1;33m\u001b[0m\u001b[1;33m\u001b[0m\u001b[0m\n\u001b[0m\u001b[0;32m   1220\u001b[0m             \u001b[1;32mexcept\u001b[0m \u001b[0mException\u001b[0m\u001b[1;33m:\u001b[0m\u001b[1;33m\u001b[0m\u001b[1;33m\u001b[0m\u001b[0m\n\u001b[0;32m   1221\u001b[0m                 \u001b[0mself\u001b[0m\u001b[1;33m.\u001b[0m\u001b[0mlog\u001b[0m\u001b[1;33m.\u001b[0m\u001b[0mwarning\u001b[0m\u001b[1;33m(\u001b[0m\u001b[1;34m\"Invalid Message:\"\u001b[0m\u001b[1;33m,\u001b[0m \u001b[0mexc_info\u001b[0m\u001b[1;33m=\u001b[0m\u001b[1;32mTrue\u001b[0m\u001b[1;33m)\u001b[0m\u001b[1;33m\u001b[0m\u001b[1;33m\u001b[0m\u001b[0m\n",
      "\u001b[1;31mKeyboardInterrupt\u001b[0m: Interrupted by user"
     ]
    }
   ],
   "source": [
    "while True:\n",
    "    user = input(\"Enter a choice (rock, paper, scissors): \")\n",
    "    \n",
    "    if user != \"rock\" and   user !=  \"paper\" and   user != \"scissors\":\n",
    "        print(\"Enter a VALID choice from rock, paper, scissors \")\n",
    "        continue\n",
    "                \n",
    "    choice = [\"rock\", \"paper\", \"scissors\"]\n",
    "    computer_action = random.choice(choice)\n",
    "    print(f\"\\nYou chose {user}, computer chose {computer_action}.\\n\")"
   ]
  },
  {
   "cell_type": "markdown",
   "metadata": {},
   "source": [
    "## 3. Add only valid inputs for continuing to play the game AND guided message"
   ]
  },
  {
   "cell_type": "markdown",
   "metadata": {},
   "source": [
    "#### Hint: use a function"
   ]
  },
  {
   "cell_type": "code",
   "execution_count": null,
   "metadata": {},
   "outputs": [],
   "source": [
    "while True:\n",
    "    user = input(\"Enter a choice (rock, paper, scissors): \")\n",
    "    play_again = input(\"Play again? (yes/no): \")\n",
    "\n",
    "if play_again.lower() != \"yes\":\n",
    "    print(f\"\\nYou chose {user}\")\n",
    "    elif:\n",
    "        print(\"Thank you! See you next time.\")"
   ]
  },
  {
   "cell_type": "markdown",
   "metadata": {},
   "source": [
    "## 4. Put all together in one cell"
   ]
  },
  {
   "cell_type": "code",
   "execution_count": null,
   "metadata": {},
   "outputs": [
    {
     "name": "stdout",
     "output_type": "stream",
     "text": [
      "Welcome to the Rock, the Paper, the Scissors Game!\n",
      " \n",
      " The rules of the Rock, the Paper, the Scissors Games.\n",
      "    \n",
      "  select choices from rock, paper, scissors to play.\n"
     ]
    }
   ],
   "source": [
    "print(\"Welcome to the Rock, the Paper, the Scissors Game!\")\n",
    "print(\" \\n The rules of the Rock, the Paper, the Scissors Games.\\n    \\n  select choices from rock, paper, scissors to play.\")\n",
    "\n",
    "import random\n",
    "\n",
    "while True:\n",
    "    user = input(\"Enter your choice from rock, paper, scissors: \")\n",
    "    \n",
    "    if user != \"rock\" and   user !=  \"paper\" and   user != \"scissors\":\n",
    "        print(\"\\nPlese follow the game rules \")\n",
    "        continue\n",
    "                \n",
    "    choice = [\"rock\", \"paper\", \"scissors\"]\n",
    "    computer_action = random.choice(choice)\n",
    "    print(f\"\\nYou chose {user}, computer chose {computer_action}.\\n\")\n",
    "    \n",
    "   \n",
    "    if user == computer_action:\n",
    "        print(f\"Both players selected {user}. It's a draw.\")\n",
    "    elif user == \"rock\":\n",
    "        if computer_action == \"scissors\":\n",
    "            print(\"You win!!!!!!!\")\n",
    "        else:\n",
    "            print(\"You lose.\")\n",
    "    elif user == \"paper\":\n",
    "        if computer_action == \"rock\":\n",
    "            print(\"You win!!!!\")\n",
    "        else:\n",
    "            print(\"You lose.\")\n",
    "    elif user == \"scissors\":\n",
    "        if computer_action == \"paper\":\n",
    "            print(\"You win!!!!!!\")\n",
    "        else:\n",
    "            print(\"You lose.\")\n",
    "           \n",
    "    play_again = input(\"Play again? (yes/no): \")\n",
    "    if play_again.lower() != \"yes\":\n",
    "        break\n",
    "\n",
    "        \n",
    "print (\"Thank you! See you next time.\")"
   ]
  },
  {
   "cell_type": "code",
   "execution_count": null,
   "metadata": {},
   "outputs": [],
   "source": []
  }
 ],
 "metadata": {
  "kernelspec": {
   "display_name": "Python 3 (ipykernel)",
   "language": "python",
   "name": "python3"
  },
  "language_info": {
   "codemirror_mode": {
    "name": "ipython",
    "version": 3
   },
   "file_extension": ".py",
   "mimetype": "text/x-python",
   "name": "python",
   "nbconvert_exporter": "python",
   "pygments_lexer": "ipython3",
   "version": "3.9.13"
  }
 },
 "nbformat": 4,
 "nbformat_minor": 4
}
