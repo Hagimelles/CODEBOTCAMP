{
 "cells": [
  {
   "cell_type": "markdown",
   "id": "d87f2327",
   "metadata": {},
   "source": [
    "Write a program to print the count of the number of words in the text below. Upload your finished script to Github and use its URL for your assignment submission.\n",
    "\n",
    "A CerTaiN kING HaD a bEaUtIFul gaRDEn, ANd IN THe GarDen StooD A trEe\n",
    "whICH bORe GoLDeN ApPlEs. THesE aPples WerE alwAyS CoUntEd, aNd abOuT\n",
    "tHE TiMe WheN tHEY BEgAn tO grow RipE IT wAs foUND THat EVeRY NIgHT ONE\n",
    "OF THeM Was gOne. thE kiNg bECAMe veRy ANGRy at thiS, aND ORDEred the\n",
    "GarDEneR TO KEeP WAtch ALL NIgHT uNDER the tREE. tHE gardener sEt hIs\n",
    "ELdEsT SoN to WATCH; buT ABout TweLve O’clOCK He fELL ASlEEp, And in\n",
    "the morNIng aNOTheR Of thE aPPLes Was mIssinG. tHEn THE sECONd Son waS\n",
    "oRdERED to waTch; aNd AT mIDniGhT he tOO FELl ASleEP, aND iN thE mOrNIng\n",
    "ANoThER AppLE WaS gOne . TheN THe thIrd Son oFfeREd tO KeEp wATCh; buT\n",
    "thE garDENer At First WoULd NoT LET Him, FOr fEaR sOMe HArM ShOuLD cOME\n",
    "To hIM: hoWeveR, at lAST hE coNSEnteD, AND tHE YouNg MAN laID HimSELf\n",
    "uNDER tHE tREe TO wAtch. AS tHE clocK STRuCk tweLvE He Heard A rustlinG\n",
    "NoISe IN ThE aIr, And a biRd CAME FlYing ThAt was Of PUre gOLd; AND as\n",
    "IT WAs SNApPING At onE oF ThE aPpleS wIth iTS BeaK, tHE GArDEner’S son\n",
    "jUMpED UP And SHOT AN aRrOw at iT. But THE arrOw DID thE BiRD nO HaRm;\n",
    "ONlY iT dRoPPEd a GoLDEn FEather FROM iTS tAiL, aND THEN FLEw AwaY.\n",
    "the gOLdEN FEAthER WAS bRoUght to THe KinG IN THE MOrNING, AnD aLL ThE\n",
    "cOunCil WAs called TogETHER. EVERYoNE aGREed ThAt it wAS wORth MoRe THAn\n",
    "aLl The weAltH Of tHE kIngDOm: But THE KiNg sAID, ‘One FeatHeR Is Of NO\n",
    "use tO me, I MusT HaVE ThE wHOLE BIRD .’"
   ]
  },
  {
   "cell_type": "code",
   "execution_count": 2,
   "id": "edc0c638",
   "metadata": {},
   "outputs": [
    {
     "name": "stdout",
     "output_type": "stream",
     "text": [
      "The number of words in string are : 246\n"
     ]
    }
   ],
   "source": [
    "import string\n",
    " \n",
    "test_string = \" A CerTaiN kING HaD a bEaUtIFul gaRDEn, ANd IN THe GarDen StooD A trEewhICH bORe GoLDeN ApPlEs. THesE aPples WerE alwAyS CoUntEd, aNd abOtHE TiMe WheN tHEY BEgAn tO grow RipE IT wAs foUND THat EVeRY NIgHT ONEOF THeM Was gOne. thE kiNg bECAMe veRy ANGRy at thiS, aND ORDEred theGarDEneR TO KEeP WAtch ALL NIgHT uNDER the tREE. tHE gardener sEt hIsELdEsT SoN to WATCH; buT ABout TweLve O’clOCK He fELL ASlEEp, And inthe morNIng aNOTheR Of thE aPPLes Was mIssinG. tHEn THE sECONd Son waSoRdERED to waTch; aNd AT mIDniGhT he tOO FELl ASleEP, aND iN thE mOrNIngANoThER AppLE WaS gOne . TheN THe thIrd Son oFfeREd tO KeEp wATCh; buTthE garDENer At First WoULd NoT LET Him, FOr fEaR sOMe HArM ShOuLD cOMETo hIM: hoWeveR, at lAST hE coNSEnteD, AND tHE YouNg MAN laID HimSELfuNDER tHE tREe TO wAtch. AS tHE clocK STRuCk tweLvE He Heard A rustlinGNoISe IN ThE aIr, And a biRd CAME FlYing ThAt was Of PUre gOLd; AND asIT WAs SNApPING At onE oF ThE aPpleS wIth iTS BeaK, tHE GArDEner’S sonjUMpED UP And SHOT AN aRrOw at iT. But THE arrOw DID thE BiRD nO HaRm;ONlY iT dRoPPEd a GoLDEn FEather FROM iTS tAiL, aND THEN FLEw AwaY.the gOLdEN FEAthER WAS bRoUght to THe KinG IN THE MOrNING, AnD aLL ThEcOunCil WAs called TogETHER. EVERYoNE aGREed ThAt it wAS wORth MoRe THAnaLl The weAltH Of tHE kIngDOm: But THE KiNg sAID, ‘One FeatHeR Is Of NOuse tO me, I MusT HaVE ThE wHOLE BIRD .’\"\n",
    " \n",
    "#print (\"The original string is : \" + test_string)\n",
    " \n",
    "res = sum([i.strip(string.punctuation).isalpha() for i in test_string.split()])\n",
    " \n",
    "print (\"The number of words in string are : \" + str(res))"
   ]
  },
  {
   "cell_type": "code",
   "execution_count": null,
   "id": "744c25b7",
   "metadata": {},
   "outputs": [],
   "source": []
  }
 ],
 "metadata": {
  "kernelspec": {
   "display_name": "Python 3 (ipykernel)",
   "language": "python",
   "name": "python3"
  },
  "language_info": {
   "codemirror_mode": {
    "name": "ipython",
    "version": 3
   },
   "file_extension": ".py",
   "mimetype": "text/x-python",
   "name": "python",
   "nbconvert_exporter": "python",
   "pygments_lexer": "ipython3",
   "version": "3.9.13"
  }
 },
 "nbformat": 4,
 "nbformat_minor": 5
}
