{
 "cells": [
  {
   "cell_type": "markdown",
   "metadata": {},
   "source": [
    "Exercise 1. Ask for a color and store that answer. \n",
    "If the answer is grey then print out you found Victor's favorite color.\n",
    "Otherwise print out the color is not Victor's favorite color."
   ]
  },
  {
   "cell_type": "code",
   "execution_count": 1,
   "metadata": {},
   "outputs": [
    {
     "name": "stdout",
     "output_type": "stream",
     "text": [
      "What's Victor's favorite color? blue\n",
      "blue is not Victor's favorite color.\n",
      "Bye!\n"
     ]
    }
   ],
   "source": [
    "color = input(\"What's Victor's favorite color? \")\n",
    "if color == \"grey\" :\n",
    "    print(\"You found Victor's favorite color!\")\n",
    "else :        \n",
    "    print(f\"{color} is not Victor's favorite color.\")\n",
    "    \n",
    "print(\"Bye!\")"
   ]
  },
  {
   "cell_type": "markdown",
   "metadata": {},
   "source": [
    "Exercise 2. Modify code from above exercise 1 and add in more conditions for other colors such as red, green, blue and then, write statements for them. "
   ]
  },
  {
   "cell_type": "code",
   "execution_count": 2,
   "metadata": {},
   "outputs": [
    {
     "name": "stdout",
     "output_type": "stream",
     "text": [
      "What's Victor's favorite color? red\n",
      "Victor hates red.\n"
     ]
    }
   ],
   "source": [
    "color = input(\"What's Victor's favorite color? \")\n",
    "if color == \"grey\" :\n",
    "    print(\"You found Victor's favorite color!\")\n",
    "elif color == \"red\" :        \n",
    "    print(\"Victor hates red.\")\n",
    "elif color == \"green\" :        \n",
    "    print(\"Victor is tired of green\")\n",
    "elif color == \"blue\" :        \n",
    "    print(\"Blue is Victor's second favorite color.\")\n",
    "else :        \n",
    "    print(f\"{color} is not Victor's favorite color.\")\n",
    "    "
   ]
  },
  {
   "cell_type": "markdown",
   "metadata": {},
   "source": [
    "Exercise 3. Ask for an exam score and store that number. If the number is greater than 100, then print out 'You cannot have an exam score higher than 100'. If the number doesn't exceeed 100 but is greater than or equal to 75, then print out 'You did great on your exam!'. Otherwise if they scored lower than 75, then print out 'You need to study harder'."
   ]
  },
  {
   "cell_type": "code",
   "execution_count": 3,
   "metadata": {},
   "outputs": [
    {
     "name": "stdout",
     "output_type": "stream",
     "text": [
      "Enter a score: 76\n",
      "You did great on your exam\n"
     ]
    }
   ],
   "source": [
    "score = int(input(\"Enter a score: \"))\n",
    "if score > 100 :\n",
    "    print(\"You cannot have an exam score higher than 100.\")\n",
    "elif score >= 75 :\n",
    "    print(\"You did great on your exam\")\n",
    "else :\n",
    "    print(\"You need to study harder\")"
   ]
  },
  {
   "cell_type": "markdown",
   "metadata": {},
   "source": [
    "Exercise 4. \n",
    "Define two functions: \n",
    "    - a function that takes 3 arguements and returns the sum of three arguements\n",
    "    - a function that takes 2 arguements and returns the result of 1st arguement multiplied by 2nd arguement\n",
    "\n",
    "Then tell the user to choose option 1 to add three numbers or option 2 to multiply two numbers.\n",
    "If the user choose option 1 then call the addition function, otherwise if they choose option 2 then call the mulitplication function.  If the user choose anything other than option 1 or 2, then generate a friendly error messsage"
   ]
  },
  {
   "cell_type": "code",
   "execution_count": 4,
   "metadata": {},
   "outputs": [
    {
     "name": "stdout",
     "output_type": "stream",
     "text": [
      "Choose 1 for adding 3 numbers or 2 for multiplying 2 numbers\n",
      "Enter your choice: 1\n",
      "Enter a number: 3\n",
      "Enter second number: 5\n",
      "Enter third number: 3\n",
      "3 + 5 + 3 = 11\n"
     ]
    }
   ],
   "source": [
    "def add(parm1, parm2, parm3) :\n",
    "    return parm1 + parm2 + parm3\n",
    "\n",
    "def mult(parm1, parm2) :\n",
    "    return parm1 * parm2 \n",
    "\n",
    "print(\"Choose 1 for adding 3 numbers or 2 for multiplying 2 numbers\")\n",
    "choice = int(input(\"Enter your choice: \"))\n",
    "if choice == 1 :\n",
    "    numb1 = int(input(\"Enter a number: \"))\n",
    "    numb2 = int(input(\"Enter second number: \"))\n",
    "    numb3 = int(input(\"Enter third number: \"))\n",
    "    print(f\"{numb1} + {numb2} + {numb3} = {add(numb1, numb2, numb3)}\")\n",
    "elif choice == 2 :  \n",
    "    numb1 = int(input(\"Enter a number: \"))\n",
    "    numb2 = int(input(\"Enter second number: \"))\n",
    "    print(f\"{numb1} * {numb2} = {mult(numb1, numb2)}\")  \n",
    "else :  \n",
    "    print(f\"Choice {choice} is invalid\")\n",
    "\n"
   ]
  },
  {
   "cell_type": "markdown",
   "metadata": {},
   "source": [
    "Exercise 5. \n",
    "Write a function to convert a test score to a grade where  \n",
    " - 90 - 100: A\n",
    " - 80 - 89:  B\n",
    " - 70 - 79:  C\n",
    " - 60 - 69:  D\n",
    " - < 60   :  F\n",
    " \n",
    "If a score is not between 0 and 100 then print out an error message. In the program, ask the user for a score and then call your function. "
   ]
  },
  {
   "cell_type": "code",
   "execution_count": 5,
   "metadata": {},
   "outputs": [
    {
     "name": "stdout",
     "output_type": "stream",
     "text": [
      "Please enter a test score: 92\n",
      "Grade is A\n"
     ]
    }
   ],
   "source": [
    "def convert_to_grade(score) :\n",
    "    if score > 100 or score < 0 :\n",
    "        msg = \"Score must be between 0 and 100\"\n",
    "    elif score >= 90 :\n",
    "        msg = \"Grade is A\"\n",
    "    elif score >= 80 :\n",
    "        msg = \"Grade is B\"\n",
    "    elif score >= 70 :\n",
    "        msg = \"Grade is C\"\n",
    "    elif score >= 60 :\n",
    "        msg = \"Grade is D\"\n",
    "    else :\n",
    "        msg = \"Grade is F\"\n",
    "        \n",
    "    return msg\n",
    "\n",
    "\n",
    "score = int(input(\"Please enter a test score: \"))    \n",
    "print(convert_to_grade(score)) "
   ]
  },
  {
   "cell_type": "markdown",
   "metadata": {},
   "source": [
    "Exercise 6. Write a program to compute discounts for customers.  \n",
    "- For retail customers, \n",
    "    - if invoice total is greater than \\$100 then discount rate is 10\\%, otherwise no discount \n",
    "\n",
    "- For wholesale customers,\n",
    "    - if invoice total is greater than \\$500 then discount rate is 30\\%, otherwise discount rate is 20\\%\n",
    "    \n",
    "Get the type of customer and the invoice total from the user."
   ]
  },
  {
   "cell_type": "code",
   "execution_count": 6,
   "metadata": {},
   "outputs": [
    {
     "name": "stdout",
     "output_type": "stream",
     "text": [
      "Enter customer type (r/w):\tr\n",
      "Enter invoice total:\t10\n",
      "\n",
      "\n",
      "Invoice total:\t\t\t$10.00\n",
      "Discount percent:\t\t0%\n",
      "Discount amount:\t\t$0.00\n",
      "New invoice total:\t\t$10.00\n"
     ]
    }
   ],
   "source": [
    "# Get user input\n",
    "customer_type = input(\"Enter customer type (r/w):\\t\")\n",
    "invoice_total = float(input(\"Enter invoice total:\\t\"))\n",
    "\n",
    "if customer_type.lower() == \"r\" :    # determine discounts for retail customers\n",
    "    if invoice_total > 100 :\n",
    "        discount = .1 \n",
    "    else :\n",
    "        discount = 0\n",
    "elif customer_type.lower() == \"w\" :  # determine discounts for wholesale customers\n",
    "    if invoice_total > 500 :\n",
    "        discount = .3 \n",
    "    else :\n",
    "        discount = .2\n",
    "else :                               # neither retail or wholesale\n",
    "    discount = 0\n",
    "    \n",
    "discount_amount = invoice_total * discount\n",
    "new_total = invoice_total - discount_amount\n",
    "\n",
    "print(f\"\\n\\nInvoice total:\\t\\t\\t${invoice_total:,.2f}\")\n",
    "print(f\"Discount percent:\\t\\t{discount*100:.0f}%\")\n",
    "print(f\"Discount amount:\\t\\t${discount_amount:,.2f}\")\n",
    "print(f\"New invoice total:\\t\\t${new_total:,.2f}\")\n"
   ]
  },
  {
   "cell_type": "markdown",
   "metadata": {},
   "source": [
    "Exercise 7: Write a function that accepts two parameters (a and b) and returns a result of a/b.  In this function, try to catch any exception error.  Then, write a program to get two numbers from a user, call your function using these two numbers, and print out the result in a friendly format.  All input and print statements must be done in the main program. Repeat the process until user wants to quit the program. "
   ]
  },
  {
   "cell_type": "code",
   "execution_count": 8,
   "metadata": {},
   "outputs": [],
   "source": [
    "import sys\n",
    "\n",
    "def division(a, b) :\n",
    "    \n",
    "    try:\n",
    "        result = a/b\n",
    "    except :\n",
    "        print(f\"\\n***** ERROR: \", sys.exc_info()[0], \"occurred. *****\\n\")\n",
    "        result = 0\n",
    "        \n",
    "    return result\n",
    "        "
   ]
  },
  {
   "cell_type": "code",
   "execution_count": 9,
   "metadata": {},
   "outputs": [
    {
     "name": "stdout",
     "output_type": "stream",
     "text": [
      "Enter the first number: 2\n",
      "Enter the second number: 4\n",
      "\n",
      "\n",
      "2/4=0.5\n",
      "\n",
      "Would you like to try again? (y/n) y\n",
      "Enter the first number: 5\n",
      "Enter the second number: 4\n",
      "\n",
      "\n",
      "5/4=1.25\n",
      "\n"
     ]
    },
    {
     "ename": "KeyboardInterrupt",
     "evalue": "Interrupted by user",
     "output_type": "error",
     "traceback": [
      "\u001b[1;31m---------------------------------------------------------------------------\u001b[0m",
      "\u001b[1;31mKeyboardInterrupt\u001b[0m                         Traceback (most recent call last)",
      "\u001b[1;32m~\\AppData\\Local\\Temp\\ipykernel_14472\\1968210684.py\u001b[0m in \u001b[0;36m<module>\u001b[1;34m\u001b[0m\n\u001b[0;32m      6\u001b[0m     \u001b[0mprint\u001b[0m\u001b[1;33m(\u001b[0m\u001b[1;34mf\"\\n\\n{numb1}/{numb2}={result}\\n\"\u001b[0m\u001b[1;33m)\u001b[0m\u001b[1;33m\u001b[0m\u001b[1;33m\u001b[0m\u001b[0m\n\u001b[0;32m      7\u001b[0m \u001b[1;33m\u001b[0m\u001b[0m\n\u001b[1;32m----> 8\u001b[1;33m     \u001b[0manswer\u001b[0m \u001b[1;33m=\u001b[0m \u001b[0minput\u001b[0m\u001b[1;33m(\u001b[0m\u001b[1;34m\"Would you like to try again? (y/n) \"\u001b[0m\u001b[1;33m)\u001b[0m\u001b[1;33m\u001b[0m\u001b[1;33m\u001b[0m\u001b[0m\n\u001b[0m\u001b[0;32m      9\u001b[0m     \u001b[1;32mif\u001b[0m \u001b[0manswer\u001b[0m\u001b[1;33m.\u001b[0m\u001b[0mlower\u001b[0m\u001b[1;33m(\u001b[0m\u001b[1;33m)\u001b[0m \u001b[1;33m!=\u001b[0m \u001b[1;34m\"y\"\u001b[0m \u001b[1;33m:\u001b[0m\u001b[1;33m\u001b[0m\u001b[1;33m\u001b[0m\u001b[0m\n\u001b[0;32m     10\u001b[0m         \u001b[1;32mbreak\u001b[0m\u001b[1;33m\u001b[0m\u001b[1;33m\u001b[0m\u001b[0m\n",
      "\u001b[1;32m~\\anaconda3\\lib\\site-packages\\ipykernel\\kernelbase.py\u001b[0m in \u001b[0;36mraw_input\u001b[1;34m(self, prompt)\u001b[0m\n\u001b[0;32m   1175\u001b[0m                 \u001b[1;34m\"raw_input was called, but this frontend does not support input requests.\"\u001b[0m\u001b[1;33m\u001b[0m\u001b[1;33m\u001b[0m\u001b[0m\n\u001b[0;32m   1176\u001b[0m             )\n\u001b[1;32m-> 1177\u001b[1;33m         return self._input_request(\n\u001b[0m\u001b[0;32m   1178\u001b[0m             \u001b[0mstr\u001b[0m\u001b[1;33m(\u001b[0m\u001b[0mprompt\u001b[0m\u001b[1;33m)\u001b[0m\u001b[1;33m,\u001b[0m\u001b[1;33m\u001b[0m\u001b[1;33m\u001b[0m\u001b[0m\n\u001b[0;32m   1179\u001b[0m             \u001b[0mself\u001b[0m\u001b[1;33m.\u001b[0m\u001b[0m_parent_ident\u001b[0m\u001b[1;33m[\u001b[0m\u001b[1;34m\"shell\"\u001b[0m\u001b[1;33m]\u001b[0m\u001b[1;33m,\u001b[0m\u001b[1;33m\u001b[0m\u001b[1;33m\u001b[0m\u001b[0m\n",
      "\u001b[1;32m~\\anaconda3\\lib\\site-packages\\ipykernel\\kernelbase.py\u001b[0m in \u001b[0;36m_input_request\u001b[1;34m(self, prompt, ident, parent, password)\u001b[0m\n\u001b[0;32m   1217\u001b[0m             \u001b[1;32mexcept\u001b[0m \u001b[0mKeyboardInterrupt\u001b[0m\u001b[1;33m:\u001b[0m\u001b[1;33m\u001b[0m\u001b[1;33m\u001b[0m\u001b[0m\n\u001b[0;32m   1218\u001b[0m                 \u001b[1;31m# re-raise KeyboardInterrupt, to truncate traceback\u001b[0m\u001b[1;33m\u001b[0m\u001b[1;33m\u001b[0m\u001b[0m\n\u001b[1;32m-> 1219\u001b[1;33m                 \u001b[1;32mraise\u001b[0m \u001b[0mKeyboardInterrupt\u001b[0m\u001b[1;33m(\u001b[0m\u001b[1;34m\"Interrupted by user\"\u001b[0m\u001b[1;33m)\u001b[0m \u001b[1;32mfrom\u001b[0m \u001b[1;32mNone\u001b[0m\u001b[1;33m\u001b[0m\u001b[1;33m\u001b[0m\u001b[0m\n\u001b[0m\u001b[0;32m   1220\u001b[0m             \u001b[1;32mexcept\u001b[0m \u001b[0mException\u001b[0m\u001b[1;33m:\u001b[0m\u001b[1;33m\u001b[0m\u001b[1;33m\u001b[0m\u001b[0m\n\u001b[0;32m   1221\u001b[0m                 \u001b[0mself\u001b[0m\u001b[1;33m.\u001b[0m\u001b[0mlog\u001b[0m\u001b[1;33m.\u001b[0m\u001b[0mwarning\u001b[0m\u001b[1;33m(\u001b[0m\u001b[1;34m\"Invalid Message:\"\u001b[0m\u001b[1;33m,\u001b[0m \u001b[0mexc_info\u001b[0m\u001b[1;33m=\u001b[0m\u001b[1;32mTrue\u001b[0m\u001b[1;33m)\u001b[0m\u001b[1;33m\u001b[0m\u001b[1;33m\u001b[0m\u001b[0m\n",
      "\u001b[1;31mKeyboardInterrupt\u001b[0m: Interrupted by user"
     ]
    }
   ],
   "source": [
    "while True:\n",
    "    numb1 = int(input(\"Enter the first number: \"))\n",
    "    numb2 = int(input(\"Enter the second number: \"))\n",
    "    \n",
    "    result = division(numb1, numb2)\n",
    "    print(f\"\\n\\n{numb1}/{numb2}={result}\\n\")\n",
    "    \n",
    "    answer = input(\"Would you like to try again? (y/n) \")\n",
    "    if answer.lower() != \"y\" :\n",
    "        break\n",
    "        \n",
    "        "
   ]
  },
  {
   "cell_type": "markdown",
   "metadata": {},
   "source": [
    "Exercise 8: Write a function to generate a multiplication table. Then write a program to ask a user if user wants to generate a  mutiplication table for a random number or provide a number. The program should continue to run until a user wants to quit."
   ]
  },
  {
   "cell_type": "code",
   "execution_count": null,
   "metadata": {},
   "outputs": [],
   "source": [
    "import random as rand\n",
    "\n",
    "\n",
    "def multi_table(numb) :\n",
    "    count = 1\n",
    "    while count < 10 :\n",
    "        print(f\"{numb} x {count} = {numb*count}\")\n",
    "        count += 1\n",
    "        \n",
    "    return\n"
   ]
  },
  {
   "cell_type": "code",
   "execution_count": 15,
   "metadata": {},
   "outputs": [
    {
     "name": "stdout",
     "output_type": "stream",
     "text": [
      "Welcome to Multiplication Table Program\n",
      "\n",
      "\n",
      "Do you want to randomly generate a multiplication table? (y/n)y\n"
     ]
    },
    {
     "ename": "NameError",
     "evalue": "name 'multi_table' is not defined",
     "output_type": "error",
     "traceback": [
      "\u001b[1;31m---------------------------------------------------------------------------\u001b[0m",
      "\u001b[1;31mNameError\u001b[0m                                 Traceback (most recent call last)",
      "\u001b[1;32m~\\AppData\\Local\\Temp\\ipykernel_14472\\2209884879.py\u001b[0m in \u001b[0;36m<module>\u001b[1;34m\u001b[0m\n\u001b[0;32m      9\u001b[0m         \u001b[0mnumb\u001b[0m \u001b[1;33m=\u001b[0m \u001b[0mint\u001b[0m\u001b[1;33m(\u001b[0m\u001b[0minput\u001b[0m\u001b[1;33m(\u001b[0m\u001b[1;34m\"Enter a number: \"\u001b[0m\u001b[1;33m)\u001b[0m\u001b[1;33m)\u001b[0m\u001b[1;33m\u001b[0m\u001b[1;33m\u001b[0m\u001b[0m\n\u001b[0;32m     10\u001b[0m \u001b[1;33m\u001b[0m\u001b[0m\n\u001b[1;32m---> 11\u001b[1;33m     \u001b[0mmulti_table\u001b[0m\u001b[1;33m(\u001b[0m\u001b[0mnumb\u001b[0m\u001b[1;33m)\u001b[0m\u001b[1;33m\u001b[0m\u001b[1;33m\u001b[0m\u001b[0m\n\u001b[0m\u001b[0;32m     12\u001b[0m     \u001b[0manswer\u001b[0m \u001b[1;33m=\u001b[0m \u001b[0minput\u001b[0m\u001b[1;33m(\u001b[0m\u001b[1;34m\"Do you want to try again? (y/n)\"\u001b[0m\u001b[1;33m)\u001b[0m\u001b[1;33m\u001b[0m\u001b[1;33m\u001b[0m\u001b[0m\n\u001b[0;32m     13\u001b[0m \u001b[1;33m\u001b[0m\u001b[0m\n",
      "\u001b[1;31mNameError\u001b[0m: name 'multi_table' is not defined"
     ]
    }
   ],
   "source": [
    "print(\"Welcome to Multiplication Table Program\\n\\n\")\n",
    "\n",
    "while True :\n",
    "    answer = input(\"Do you want to randomly generate a multiplication table? (y/n)\")\n",
    "\n",
    "    if answer.lower() == 'y' :\n",
    "        numb = rand.randint(1, 9)\n",
    "    else :\n",
    "        numb = int(input(\"Enter a number: \"))\n",
    "            \n",
    "    multi_table(numb)\n",
    "    answer = input(\"Do you want to try again? (y/n)\")\n",
    "        \n",
    "    if answer.lower() == 'n' :\n",
    "        break\n",
    "        \n",
    "print(\"Bye!\")"
   ]
  },
  {
   "cell_type": "markdown",
   "metadata": {},
   "source": [
    "Exercise 9: Write a function to draw a right-triangle using a number as a character.Then, write a program to generate a random number between 1 and 9, call your function with that random number.  The output should look something like this:\n",
    "\n",
    "        base: 5\n",
    "        5\n",
    "        55\n",
    "        555\n",
    "        5555\n",
    "        55555\n",
    "\n",
    "\n",
    "        base: 8\n",
    "        8\n",
    "        88\n",
    "        888\n",
    "        8888\n",
    "        88888\n",
    "        888888\n",
    "        8888888\n",
    "        88888888"
   ]
  },
  {
   "cell_type": "code",
   "execution_count": 16,
   "metadata": {},
   "outputs": [],
   "source": [
    "import random as rand\n",
    "\n",
    "def draw_triangle(numb) :\n",
    "    count = 1\n",
    "    symbol = str(numb)\n",
    "    while count <= numb :\n",
    "        print(f\"{symbol*count}\")\n",
    "        count += 1\n",
    "        \n",
    "    return\n"
   ]
  },
  {
   "cell_type": "code",
   "execution_count": null,
   "metadata": {},
   "outputs": [],
   "source": [
    "ran_no = rand.randint(1, 9) \n",
    "print(f\"base: {ran_no}\")\n",
    "draw_triangle(ran_no)    "
   ]
  },
  {
   "cell_type": "markdown",
   "metadata": {},
   "source": [
    "Exercise 10: Modify function from exercise 9 to show output like this:\n",
    "\n",
    "        base: 5\n",
    "            5\n",
    "           55\n",
    "          555\n",
    "         5555 \n",
    "        55555\n",
    "        \n",
    "        base: 8\n",
    "               8\n",
    "              88\n",
    "             888\n",
    "            8888\n",
    "           88888\n",
    "          888888\n",
    "         8888888\n",
    "        88888888 "
   ]
  },
  {
   "cell_type": "code",
   "execution_count": 11,
   "metadata": {},
   "outputs": [],
   "source": [
    "def draw_triangle2(numb) :\n",
    "    count = 1\n",
    "    symbol = str(numb)\n",
    "    blank = ' '\n",
    "    blank_no = 9\n",
    "    \n",
    "    while count <= numb :\n",
    "        print(f\"{blank*blank_no}{symbol*count}\")\n",
    "        count += 1\n",
    "        blank_no -= 1\n",
    "        \n",
    "    return\n"
   ]
  },
  {
   "cell_type": "code",
   "execution_count": 17,
   "metadata": {},
   "outputs": [
    {
     "name": "stdout",
     "output_type": "stream",
     "text": [
      "base: 9\n",
      "         9\n",
      "        99\n",
      "       999\n",
      "      9999\n",
      "     99999\n",
      "    999999\n",
      "   9999999\n",
      "  99999999\n",
      " 999999999\n"
     ]
    }
   ],
   "source": [
    "ran_no = rand.randint(1, 9) \n",
    "print(f\"base: {ran_no}\")\n",
    "draw_triangle2(ran_no)    "
   ]
  },
  {
   "cell_type": "code",
   "execution_count": null,
   "metadata": {},
   "outputs": [],
   "source": []
  }
 ],
 "metadata": {
  "kernelspec": {
   "display_name": "Python 3 (ipykernel)",
   "language": "python",
   "name": "python3"
  },
  "language_info": {
   "codemirror_mode": {
    "name": "ipython",
    "version": 3
   },
   "file_extension": ".py",
   "mimetype": "text/x-python",
   "name": "python",
   "nbconvert_exporter": "python",
   "pygments_lexer": "ipython3",
   "version": "3.9.13"
  }
 },
 "nbformat": 4,
 "nbformat_minor": 4
}
