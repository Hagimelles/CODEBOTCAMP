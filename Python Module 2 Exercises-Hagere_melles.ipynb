{
 "cells": [
  {
   "cell_type": "markdown",
   "metadata": {},
   "source": [
    "### Python Module 2 Exercises-Answers"
   ]
  },
  {
   "cell_type": "raw",
   "metadata": {},
   "source": [
    "1. Print out a data type of a variable?"
   ]
  },
  {
   "cell_type": "code",
   "execution_count": 1,
   "metadata": {},
   "outputs": [
    {
     "data": {
      "text/plain": [
       "str"
      ]
     },
     "execution_count": 1,
     "metadata": {},
     "output_type": "execute_result"
    }
   ],
   "source": [
    "Type = \"Variable\"\n",
    "type(Type)"
   ]
  },
  {
   "cell_type": "markdown",
   "metadata": {},
   "source": [
    "2. Round 4.5667 to the nearest hundreth using a build-in function, round()."
   ]
  },
  {
   "cell_type": "code",
   "execution_count": 2,
   "metadata": {},
   "outputs": [
    {
     "data": {
      "text/plain": [
       "4.57"
      ]
     },
     "execution_count": 2,
     "metadata": {},
     "output_type": "execute_result"
    }
   ],
   "source": [
    "round(4.5667, 2)"
   ]
  },
  {
   "cell_type": "markdown",
   "metadata": {},
   "source": [
    "3. Convert \"657\" to an integer data type"
   ]
  },
  {
   "cell_type": "code",
   "execution_count": 3,
   "metadata": {},
   "outputs": [
    {
     "name": "stdout",
     "output_type": "stream",
     "text": [
      "657\n",
      "str_var1's value is 657 and type is <class 'str'>\n",
      "num_var1's value is 657 and type is <class 'int'>\n"
     ]
    }
   ],
   "source": [
    "str_var1 = \"657\"\n",
    "num_var1 = int(str_var1)\n",
    "print(num_var1)\n",
    "print(f\"str_var1's value is {str_var1} and type is {type(str_var1)}\")\n",
    "print(f\"num_var1's value is {num_var1} and type is {type(num_var1)}\")"
   ]
  },
  {
   "cell_type": "markdown",
   "metadata": {},
   "source": [
    "4. Write a function to calculate the miles per gallon.\n",
    "Get a miles driven and gallons used from a user and call your function to calculate the miles per gallon. "
   ]
  },
  {
   "cell_type": "code",
   "execution_count": 6,
   "metadata": {},
   "outputs": [
    {
     "name": "stdout",
     "output_type": "stream",
     "text": [
      "The Milers Per Gallon Program\n",
      "\n"
     ]
    },
    {
     "ename": "KeyboardInterrupt",
     "evalue": "Interrupted by user",
     "output_type": "error",
     "traceback": [
      "\u001b[1;31m---------------------------------------------------------------------------\u001b[0m",
      "\u001b[1;31mKeyboardInterrupt\u001b[0m                         Traceback (most recent call last)",
      "\u001b[1;32m~\\AppData\\Local\\Temp\\ipykernel_9788\\1314523908.py\u001b[0m in \u001b[0;36m<module>\u001b[1;34m\u001b[0m\n\u001b[0;32m      3\u001b[0m \u001b[1;33m\u001b[0m\u001b[0m\n\u001b[0;32m      4\u001b[0m \u001b[1;31m# Get input from the user\u001b[0m\u001b[1;33m\u001b[0m\u001b[1;33m\u001b[0m\u001b[0m\n\u001b[1;32m----> 5\u001b[1;33m \u001b[0mmiles_driven\u001b[0m \u001b[1;33m=\u001b[0m \u001b[0mfloat\u001b[0m\u001b[1;33m(\u001b[0m\u001b[0minput\u001b[0m\u001b[1;33m(\u001b[0m\u001b[1;34m\"Enter miles driven:\\t\\t\"\u001b[0m\u001b[1;33m)\u001b[0m\u001b[1;33m)\u001b[0m\u001b[1;33m\u001b[0m\u001b[1;33m\u001b[0m\u001b[0m\n\u001b[0m\u001b[0;32m      6\u001b[0m \u001b[0mgallons_used\u001b[0m \u001b[1;33m=\u001b[0m \u001b[0mfloat\u001b[0m\u001b[1;33m(\u001b[0m\u001b[0minput\u001b[0m\u001b[1;33m(\u001b[0m\u001b[1;34m\"Enter gallons of gas used:\\t\"\u001b[0m\u001b[1;33m)\u001b[0m\u001b[1;33m)\u001b[0m\u001b[1;33m\u001b[0m\u001b[1;33m\u001b[0m\u001b[0m\n\u001b[0;32m      7\u001b[0m \u001b[1;33m\u001b[0m\u001b[0m\n",
      "\u001b[1;32m~\\anaconda3\\lib\\site-packages\\ipykernel\\kernelbase.py\u001b[0m in \u001b[0;36mraw_input\u001b[1;34m(self, prompt)\u001b[0m\n\u001b[0;32m   1175\u001b[0m                 \u001b[1;34m\"raw_input was called, but this frontend does not support input requests.\"\u001b[0m\u001b[1;33m\u001b[0m\u001b[1;33m\u001b[0m\u001b[0m\n\u001b[0;32m   1176\u001b[0m             )\n\u001b[1;32m-> 1177\u001b[1;33m         return self._input_request(\n\u001b[0m\u001b[0;32m   1178\u001b[0m             \u001b[0mstr\u001b[0m\u001b[1;33m(\u001b[0m\u001b[0mprompt\u001b[0m\u001b[1;33m)\u001b[0m\u001b[1;33m,\u001b[0m\u001b[1;33m\u001b[0m\u001b[1;33m\u001b[0m\u001b[0m\n\u001b[0;32m   1179\u001b[0m             \u001b[0mself\u001b[0m\u001b[1;33m.\u001b[0m\u001b[0m_parent_ident\u001b[0m\u001b[1;33m[\u001b[0m\u001b[1;34m\"shell\"\u001b[0m\u001b[1;33m]\u001b[0m\u001b[1;33m,\u001b[0m\u001b[1;33m\u001b[0m\u001b[1;33m\u001b[0m\u001b[0m\n",
      "\u001b[1;32m~\\anaconda3\\lib\\site-packages\\ipykernel\\kernelbase.py\u001b[0m in \u001b[0;36m_input_request\u001b[1;34m(self, prompt, ident, parent, password)\u001b[0m\n\u001b[0;32m   1217\u001b[0m             \u001b[1;32mexcept\u001b[0m \u001b[0mKeyboardInterrupt\u001b[0m\u001b[1;33m:\u001b[0m\u001b[1;33m\u001b[0m\u001b[1;33m\u001b[0m\u001b[0m\n\u001b[0;32m   1218\u001b[0m                 \u001b[1;31m# re-raise KeyboardInterrupt, to truncate traceback\u001b[0m\u001b[1;33m\u001b[0m\u001b[1;33m\u001b[0m\u001b[0m\n\u001b[1;32m-> 1219\u001b[1;33m                 \u001b[1;32mraise\u001b[0m \u001b[0mKeyboardInterrupt\u001b[0m\u001b[1;33m(\u001b[0m\u001b[1;34m\"Interrupted by user\"\u001b[0m\u001b[1;33m)\u001b[0m \u001b[1;32mfrom\u001b[0m \u001b[1;32mNone\u001b[0m\u001b[1;33m\u001b[0m\u001b[1;33m\u001b[0m\u001b[0m\n\u001b[0m\u001b[0;32m   1220\u001b[0m             \u001b[1;32mexcept\u001b[0m \u001b[0mException\u001b[0m\u001b[1;33m:\u001b[0m\u001b[1;33m\u001b[0m\u001b[1;33m\u001b[0m\u001b[0m\n\u001b[0;32m   1221\u001b[0m                 \u001b[0mself\u001b[0m\u001b[1;33m.\u001b[0m\u001b[0mlog\u001b[0m\u001b[1;33m.\u001b[0m\u001b[0mwarning\u001b[0m\u001b[1;33m(\u001b[0m\u001b[1;34m\"Invalid Message:\"\u001b[0m\u001b[1;33m,\u001b[0m \u001b[0mexc_info\u001b[0m\u001b[1;33m=\u001b[0m\u001b[1;32mTrue\u001b[0m\u001b[1;33m)\u001b[0m\u001b[1;33m\u001b[0m\u001b[1;33m\u001b[0m\u001b[0m\n",
      "\u001b[1;31mKeyboardInterrupt\u001b[0m: Interrupted by user"
     ]
    }
   ],
   "source": [
    "# Disply a title\n",
    "print(\"The Milers Per Gallon Program\\n\")\n",
    "\n",
    "# Get input from the user\n",
    "miles_driven = float(input(\"Enter miles driven:\\t\\t\"))\n",
    "gallons_used = float(input(\"Enter gallons of gas used:\\t\"))\n",
    "\n",
    "# Compute\n",
    "mpg = miles_driven / gallons_used\n",
    "mpg = round(mpg, 2)\n",
    "\n",
    "# Display the result\n",
    "print(f\"\\nMiles per Gallon:\\t\\t{mpg}\")"
   ]
  },
  {
   "cell_type": "markdown",
   "metadata": {},
   "source": [
    "5. Enhance your function from exercise 4. Additionally, get a gas price per gallon from a user and write a program to compute the total gas cost and cost per mile. \n",
    "\n",
    "The output should look something like this:\n",
    "\n",
    "    Enter miles driven:            150\n",
    "    Enter gallons of gas used:     15\n",
    "    Enter cost per gallon:          3\n",
    "\n",
    "    Miles Per Gallon:   10.0\n",
    "    Total Gas Cost:     45.0\n",
    "    Cost per Mile:      0.3\n"
   ]
  },
  {
   "cell_type": "code",
   "execution_count": 7,
   "metadata": {},
   "outputs": [
    {
     "name": "stdout",
     "output_type": "stream",
     "text": [
      "The Milers Per Gallon Program\n",
      "\n",
      "Enter miles driven:\t\t10\n",
      "Enter gallons of gas used:\t2\n",
      "Enter cost per gallon:\t\t3.10\n",
      "\n",
      "Miles per Gallon:\t\t5.0\n",
      "Total Gas Cost:\t\t\t6.2\n",
      "Cost Per Mile:\t\t\t0.62\n"
     ]
    }
   ],
   "source": [
    "# Disply a title\n",
    "print(\"The Milers Per Gallon Program\\n\")\n",
    "\n",
    "# Get input from the user\n",
    "miles_driven = float(input(\"Enter miles driven:\\t\\t\"))\n",
    "gallons_used = float(input(\"Enter gallons of gas used:\\t\"))\n",
    "cost_per_gallon = float(input(\"Enter cost per gallon:\\t\\t\"))\n",
    "\n",
    "# Compute\n",
    "mpg = miles_driven / gallons_used\n",
    "mpg = round(mpg, 2)\n",
    "total_cost = round(cost_per_gallon * gallons_used, 2)\n",
    "cost_per_mile = round(total_cost / miles_driven, 2)\n",
    "\n",
    "# Display the result\n",
    "print(f\"\\nMiles per Gallon:\\t\\t{mpg}\")\n",
    "print(f\"Total Gas Cost:\\t\\t\\t{total_cost}\")\n",
    "print(f\"Cost Per Mile:\\t\\t\\t{cost_per_mile}\")"
   ]
  },
  {
   "cell_type": "markdown",
   "metadata": {},
   "source": [
    "6. Write a function called multiply_two() that accepts two parameters. The function should print a message like '15 + 2 = 17'.  Randomly generate two numbers between 1 and 100, then call the function with the two random numbers."
   ]
  },
  {
   "cell_type": "code",
   "execution_count": 8,
   "metadata": {},
   "outputs": [
    {
     "name": "stdout",
     "output_type": "stream",
     "text": [
      "68 + 5 = 73\n"
     ]
    }
   ],
   "source": [
    "import random as rand\n",
    "\n",
    "def multiply_two(parm1, parm2) :\n",
    "    print(f\"{parm1} + {parm2} = {parm1+parm2}\")\n",
    "    \n",
    "multiply_two(rand.randint(1,100), rand.randint(1,100))    "
   ]
  },
  {
   "cell_type": "markdown",
   "metadata": {},
   "source": [
    "7. Write a function called make_shirt() that accepts a size and the text of a message. The function should print a sentence summarizing the size of the shirt and the message printed on it. The default shirt size is large and default message is 'I love Python!' Make a default size shirt with a message, a medium shirt with the default message, and a shirt of any size with a different message."
   ]
  },
  {
   "cell_type": "code",
   "execution_count": 9,
   "metadata": {},
   "outputs": [
    {
     "name": "stdout",
     "output_type": "stream",
     "text": [
      "This is size large!\n",
      "Do you know Python?\n",
      "\n",
      "This is size medium!\n",
      "I love Python!\n",
      "\n",
      "This is size small!\n",
      "Smile\n",
      "\n"
     ]
    }
   ],
   "source": [
    "def make_shirt(size=\"large\", message=\"I love Python!\") :\n",
    "    print(f\"This is size {size}!\\n{message}\")\n",
    "    print()\n",
    "    \n",
    "\n",
    "make_shirt(message = \"Do you know Python?\")\n",
    "make_shirt(size = \"medium\")\n",
    "make_shirt(\"small\", \"Smile\")    "
   ]
  },
  {
   "cell_type": "markdown",
   "metadata": {},
   "source": [
    "8. Create a function for a multiplication table.  Get a number from a user and then call you function which produces a multiplication table for that number.\n",
    "The output should look something like this:\n",
    "\n",
    "        Enter a number: 3\n",
    "        3 X 1 = 3\n",
    "        3 X 2 = 6\n",
    "        3 X 3 = 9\n",
    "        3 X 4 = 12\n",
    "        3 X 5 = 15\n",
    "        3 X 6 = 18\n",
    "        3 X 7 = 21\n",
    "        3 X 8 = 24\n",
    "        3 X 9 = 27\n",
    "        "
   ]
  },
  {
   "cell_type": "code",
   "execution_count": 10,
   "metadata": {},
   "outputs": [
    {
     "name": "stdout",
     "output_type": "stream",
     "text": [
      "Enter a number: 2\n",
      "2 X 1 = 2\n",
      "2 X 2 = 4\n",
      "2 X 3 = 6\n",
      "2 X 4 = 8\n",
      "2 X 5 = 10\n",
      "2 X 6 = 12\n",
      "2 X 7 = 14\n",
      "2 X 8 = 16\n",
      "2 X 9 = 18\n"
     ]
    }
   ],
   "source": [
    "def multiplication(numb) :\n",
    "    print(f\"{numb} X 1 = {numb*1}\")\n",
    "    print(f\"{numb} X 2 = {numb*2}\")\n",
    "    print(f\"{numb} X 3 = {numb*3}\")\n",
    "    print(f\"{numb} X 4 = {numb*4}\")\n",
    "    print(f\"{numb} X 5 = {numb*5}\")\n",
    "    print(f\"{numb} X 6 = {numb*6}\")\n",
    "    print(f\"{numb} X 7 = {numb*7}\")\n",
    "    print(f\"{numb} X 8 = {numb*8}\")\n",
    "    print(f\"{numb} X 9 = {numb*9}\")\n",
    "    return\n",
    "\n",
    "no = int(input(\"Enter a number: \"))\n",
    "multiplication(no)"
   ]
  },
  {
   "cell_type": "markdown",
   "metadata": {},
   "source": [
    "9. Write a function that accepts a string and returns a string that is \n",
    "    - without any leading nor trailing blanks\n",
    "    - converts to all capital letters\n",
    "    - and replaces all blanks with a period(.).  \n",
    "\n",
    "Write a program to accept a string from a user then call your function and display the original string and changed string.  \n",
    "\n",
    "The output should look something like this:\n",
    "\n",
    "        Enter a text: may your dreams come true\n",
    "        \n",
    "        Original Text: may your dreams come true\n",
    "        New Text: MAY.YOUR.DREAMS.COME.TRUE"
   ]
  },
  {
   "cell_type": "code",
   "execution_count": 11,
   "metadata": {},
   "outputs": [
    {
     "name": "stdout",
     "output_type": "stream",
     "text": [
      "Enter a text: 20\n",
      "Original Text:\t20\n",
      "New Text:\t20\n"
     ]
    }
   ],
   "source": [
    "def convert_text(org_text) :\n",
    "    temp_str = org_text.strip()\n",
    "    temp_str = temp_str.upper()\n",
    "    temp_str = temp_str.replace(\" \", \".\")\n",
    "    return temp_str\n",
    "\n",
    "\n",
    "user_text = input(\"Enter a text: \")\n",
    "new_text = convert_text(user_text)\n",
    "print(f\"Original Text:\\t{user_text}\\nNew Text:\\t{new_text}\")"
   ]
  },
  {
   "cell_type": "markdown",
   "metadata": {},
   "source": [
    "10. Write a function that returns a randomly selected character from a passed string. Write a program to accept a string from a user then call your function and display the original string and selected character.\n",
    "\n",
    "The output should look something like this:\n",
    "\n",
    "        Enter a text: functions\n",
    "        Original Text:\tfunctions\n",
    "        Random character:\ts"
   ]
  },
  {
   "cell_type": "code",
   "execution_count": 12,
   "metadata": {},
   "outputs": [
    {
     "name": "stdout",
     "output_type": "stream",
     "text": [
      "Enter a text: hi\n",
      "Original Text:\thi\n",
      "Random character:\th\n"
     ]
    }
   ],
   "source": [
    "import random as rand\n",
    "\n",
    "def random_text(org_text) :\n",
    "    str_length = len(org_text)\n",
    "    index = rand.randint(0, str_length-1)\n",
    "    new_text = org_text[index]\n",
    "    return new_text\n",
    "\n",
    "user_text = input(\"Enter a text: \")\n",
    "new_text = random_text(user_text)\n",
    "print(f\"Original Text:\\t{user_text}\\nRandom character:\\t{new_text}\")"
   ]
  },
  {
   "cell_type": "markdown",
   "metadata": {},
   "source": [
    "11. Write a program that asks the user to enter the width and length of a room. Once the values have been read, your program should compute and display the area of the room. The length and the width will be entered as floating point numbers. Include units in your prompt and output message; either feet or meters, depending on which unit you are more comfortable working with."
   ]
  },
  {
   "cell_type": "code",
   "execution_count": 13,
   "metadata": {},
   "outputs": [
    {
     "name": "stdout",
     "output_type": "stream",
     "text": [
      "Enter the length of the room in feet: 20\n",
      "Enter the width of the room: 18\n",
      "The area of the room is:  360.0 square feet\n"
     ]
    }
   ],
   "source": [
    "# read input values from user\n",
    "length = float(input(\"Enter the length of the room in feet: \"))\n",
    "width = float(input(\"Enter the width of the room: \"))\n",
    "\n",
    "# calculate the area of the room\n",
    "area = length * width\n",
    "print(\"The area of the room is: \", area, \"square feet\")"
   ]
  },
  {
   "cell_type": "code",
   "execution_count": null,
   "metadata": {},
   "outputs": [],
   "source": []
  },
  {
   "cell_type": "markdown",
   "metadata": {},
   "source": [
    "12. The program that you create for this exercise will begin by reading the cost of a meal ordered at a restaurant from the user. Then your program will compute the tax and tip for the meal. Use your local tax rate when computing the amount of tax owing. Compute the tip as 18 percent of the meal amount (without the tax). The output from your program should include the tax amount, the tip amount, and the grand total for the meal including both the tax and the tip. Format the output so that all of the values are displayed using two decimal places."
   ]
  },
  {
   "cell_type": "code",
   "execution_count": 15,
   "metadata": {},
   "outputs": [
    {
     "name": "stdout",
     "output_type": "stream",
     "text": [
      "Enter the cost of the meal: 10\n",
      "The tax is 0.50 and \n",
      "the tip is 1.80, \n",
      "the total 12.30\n"
     ]
    }
   ],
   "source": [
    "# set rates\n",
    "TAX_RATE = 0.05\n",
    "TIP_RATE = 0.18\n",
    "\n",
    "# get cost of meal\n",
    "cost = float(input(\"Enter the cost of the meal: \"))\n",
    "\n",
    "# calculate the tax and tip\n",
    "tax = cost * TAX_RATE\n",
    "tip = cost * TIP_RATE\n",
    "total = cost + tax + tip\n",
    "\n",
    "print(\"The tax is %.2f and \\nthe tip is %.2f, \\nthe total %.2f\" %(tax, tip, total))"
   ]
  },
  {
   "cell_type": "markdown",
   "metadata": {},
   "source": [
    "13. Write a program that reads a positive integer, n, from the user and then displays the sum of all of the integers from 1 to n. The sum of the first n positive integers can be computed using the formula: sum = (n)(n+1)/2"
   ]
  },
  {
   "cell_type": "code",
   "execution_count": 16,
   "metadata": {},
   "outputs": [
    {
     "name": "stdout",
     "output_type": "stream",
     "text": [
      "Enter a positive integer: 8\n",
      "The sum of the first 8 positive integers is 36.0\n"
     ]
    }
   ],
   "source": [
    "# get input from user\n",
    "n = int(input(\"Enter a positive integer: \"))\n",
    "\n",
    "sm = n * (n + 1) / 2\n",
    "\n",
    "print(\"The sum of the first\", n, \"positive integers is\", sm)"
   ]
  },
  {
   "cell_type": "code",
   "execution_count": null,
   "metadata": {},
   "outputs": [],
   "source": []
  }
 ],
 "metadata": {
  "kernelspec": {
   "display_name": "Python 3 (ipykernel)",
   "language": "python",
   "name": "python3"
  },
  "language_info": {
   "codemirror_mode": {
    "name": "ipython",
    "version": 3
   },
   "file_extension": ".py",
   "mimetype": "text/x-python",
   "name": "python",
   "nbconvert_exporter": "python",
   "pygments_lexer": "ipython3",
   "version": "3.9.13"
  }
 },
 "nbformat": 4,
 "nbformat_minor": 4
}
